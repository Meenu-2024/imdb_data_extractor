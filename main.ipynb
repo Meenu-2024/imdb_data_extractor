{
 "cells": [
  {
   "cell_type": "code",
   "execution_count": 128,
   "id": "c74d7169-c526-4798-b081-ab75b639a106",
   "metadata": {},
   "outputs": [],
   "source": [
    "import requests\n",
    "from bs4 import BeautifulSoup\n",
    "import json"
   ]
  },
  {
   "cell_type": "code",
   "execution_count": 129,
   "id": "079f220f-1fa9-4d8a-b465-4caed1f24095",
   "metadata": {},
   "outputs": [
    {
     "name": "stdin",
     "output_type": "stream",
     "text": [
      "Enter IMDb movie URL:  https://www.imdb.com/title/tt0337578/?ref_=nv_sr_srsg_0_tt_7_nm_1_in_0_q_baghba\n"
     ]
    }
   ],
   "source": [
    "# Enter IMDb URL\n",
    "URL = input(\"Enter IMDb movie URL: \").strip()\n",
    "if \"/title/tt\" not in URL:\n",
    "    raise ValueError(\"Please enter a valid IMDb title URL, e.g. https://www.imdb.com/title/tt1375666/\")"
   ]
  },
  {
   "cell_type": "code",
   "execution_count": 139,
   "id": "8189bb10-2d53-4174-8a53-0e9dd707543e",
   "metadata": {},
   "outputs": [],
   "source": [
    "# Download page and parse with Beautiful Soup\n",
    "headers = {\"User-Agent\":\"Mozilla/5.0\"}\n",
    "response = requests.get(URL, headers = headers, timeout = 15)\n",
    "response.raise_for_status()\n",
    "soup = BeautifulSoup(response.text, \"html.parser\")"
   ]
  },
  {
   "cell_type": "code",
   "execution_count": 131,
   "id": "22cfbfa4-55f3-4b57-9bec-4377ee995d6f",
   "metadata": {},
   "outputs": [
    {
     "name": "stdout",
     "output_type": "stream",
     "text": [
      "{'@context': 'https://schema.org', '@type': 'Movie', 'url': 'https://www.imdb.com/title/tt0337578/', 'name': 'Baghban', 'image': 'https://m.media-amazon.com/images/M/MV5BYzIyYTIzZWYtYzhhMi00ZDA1LWE5NjYtZjhlM2VkYjMxNTMxXkEyXkFqcGc@._V1_.jpg', 'description': 'An elderly couple wish their children to care for them in their old age. But their children see and treat them as a burden, and they must struggle to regain their worth and dignity to themselves and others.', 'review': {'@type': 'Review', 'itemReviewed': {'@type': 'Movie', 'url': 'https://www.imdb.com/title/tt0337578/'}, 'author': {'@type': 'Person', 'name': 'MuviFan73'}, 'dateCreated': '2024-12-29', 'inLanguage': 'English', 'name': 'You will like it if you as human are a right entity.', 'reviewBody': 'I watched the movie again after about two decades. Some things slipped from mind. The highlight was however was cast of Alok. I somehow felt he is first introduced while the scene involving test drive.\\n\\nIf we see the script, that introduction of Alok seem overdone. They could have done it better but that could have not been that entertaining.\\n\\nI just pray a loving couple is never separated and funds never become as issue.\\n\\nMusic is good that goes well along with the movie.\\n\\nActing is justified. The grand children were great. Characters alongside café, bank, and rented house did well. Salman as Alok slightly overdone as I want to ask is Salman really that polite in real life?\\n\\nFinal Verdict: Do watch it, it&apos;s available on YouTube. You will love it if you are in right relationship with your parents.', 'reviewRating': {'@type': 'Rating', 'worstRating': 1, 'bestRating': 10, 'ratingValue': 7}}, 'aggregateRating': {'@type': 'AggregateRating', 'ratingCount': 18285, 'bestRating': 10, 'worstRating': 1, 'ratingValue': 7.4}, 'contentRating': 'U', 'genre': ['Drama', 'Romance'], 'datePublished': '2003-10-03', 'keywords': 'child rearing,children,orphan,adopted son,writing', 'actor': [{'@type': 'Person', 'url': 'https://www.imdb.com/name/nm0000821/', 'name': 'Amitabh Bachchan'}, {'@type': 'Person', 'url': 'https://www.imdb.com/name/nm0004564/', 'name': 'Hema Malini'}, {'@type': 'Person', 'url': 'https://www.imdb.com/name/nm0006795/', 'name': 'Salman Khan'}], 'director': [{'@type': 'Person', 'url': 'https://www.imdb.com/name/nm0159162/', 'name': 'Ravi Chopra'}], 'creator': [{'@type': 'Organization', 'url': 'https://www.imdb.com/company/co0601433/'}, {'@type': 'Person', 'url': 'https://www.imdb.com/name/nm1338353/', 'name': 'Shafiq Ansari'}, {'@type': 'Person', 'url': 'https://www.imdb.com/name/nm1338448/', 'name': 'Satish Bhatnagar'}, {'@type': 'Person', 'url': 'https://www.imdb.com/name/nm0159148/', 'name': 'B.R. Chopra'}], 'duration': 'PT3H1M'}\n"
     ]
    }
   ],
   "source": [
    "# Extract the JSON\n",
    "script_tag = soup.find(\"script\", type = \"application/ld+json\")\n",
    "metadata = json.loads(script_tag.string) if script_tag and script_tag.string else {}\n",
    "print(metadata)"
   ]
  },
  {
   "cell_type": "code",
   "execution_count": 132,
   "id": "785c31a5-8b96-4583-b892-43515e993196",
   "metadata": {},
   "outputs": [
    {
     "name": "stdout",
     "output_type": "stream",
     "text": [
      "https://m.media-amazon.com/images/M/MV5BYzIyYTIzZWYtYzhhMi00ZDA1LWE5NjYtZjhlM2VkYjMxNTMxXkEyXkFqcGc@._V1_.jpg\n",
      "\n",
      "✔️Poster saved as Poster.jpg\n"
     ]
    }
   ],
   "source": [
    "# Download and save the poster\n",
    "poster_url = metadata.get(\"image\")\n",
    "print(poster_url)\n",
    "if poster_url:\n",
    "    img_bytes = requests.get(poster_url, headers = headers, timeout = 15).content\n",
    "    with open(\"poster.jpg\", \"wb\") as fp:\n",
    "        fp.write(img_bytes)\n",
    "    print(\"\\n✔️Poster saved as Poster.jpg\")\n",
    "else:\n",
    "    print(\"\\n❌Poster not found\")"
   ]
  },
  {
   "cell_type": "code",
   "execution_count": 133,
   "id": "f937f961-4f70-4c71-8545-3584a03f2182",
   "metadata": {},
   "outputs": [
    {
     "name": "stdout",
     "output_type": "stream",
     "text": [
      "🎬Trailer link: not found.\n"
     ]
    }
   ],
   "source": [
    "# Find the trailer link\n",
    "trailer_tag = soup.find(\"a\", href = lambda h:h and \"/video/\" in h)\n",
    "if trailer_tag:\n",
    "    trailer_link = \"http://www.imdb.com\" + trailer_tag[\"href\"]\n",
    "    print(\"🎬Trailer link: \", trailer_link)\n",
    "else:\n",
    "    print(\"🎬Trailer link: not found.\")"
   ]
  },
  {
   "cell_type": "code",
   "execution_count": 134,
   "id": "16be92ff-69a4-4fea-98cb-ed63f3de80e9",
   "metadata": {},
   "outputs": [
    {
     "name": "stdout",
     "output_type": "stream",
     "text": [
      "\n",
      "📖Storyline:\n",
      " An elderly couple wish their children to care for them in their old age. But their children see and treat them as a burden, and they must struggle to regain their worth and dignity to themselves and others.\n"
     ]
    }
   ],
   "source": [
    "# Display the Storyline\n",
    "storyline = metadata.get(\"description\")\n",
    "if storyline:\n",
    "    print(\"\\n📖Storyline:\\n\", storyline)\n",
    "else:\n",
    "    print(\"\\n📖No Storyline\")"
   ]
  },
  {
   "cell_type": "code",
   "execution_count": 135,
   "id": "f0fa128d-f5b1-4422-b633-b4a193110493",
   "metadata": {},
   "outputs": [
    {
     "name": "stdout",
     "output_type": "stream",
     "text": [
      "['Drama', 'Romance']\n",
      "\n",
      "🎭Genre: Drama, Romance\n"
     ]
    }
   ],
   "source": [
    "# Display Genre\n",
    "genre = metadata.get(\"genre\")\n",
    "print(genre)\n",
    "if isinstance(genre, list):\n",
    "    genre = \", \".join(genre)\n",
    "if genre:\n",
    "    print(\"\\n🎭Genre:\", genre)\n",
    "else:\n",
    "    print(\"\\nNot found\")"
   ]
  },
  {
   "cell_type": "code",
   "execution_count": 136,
   "id": "4aeae322-4731-4bfd-ab44-b170ed9ed41a",
   "metadata": {},
   "outputs": [
    {
     "name": "stdout",
     "output_type": "stream",
     "text": [
      "[{'@type': 'Person', 'url': 'https://www.imdb.com/name/nm0159162/', 'name': 'Ravi Chopra'}]\n",
      "\n",
      "🎬Directors:  Ravi Chopra\n"
     ]
    }
   ],
   "source": [
    "# Display Directors\n",
    "directors = metadata.get(\"director\")\n",
    "print(directors)\n",
    "if isinstance(directors, list):\n",
    "    director_names = \", \".join(d.get(\"name\") for d in directors if d.get(\"name\"))\n",
    "elif isinstance(directors, dict):\n",
    "    director_names = directors.get(\"name\")\n",
    "else:\n",
    "    director_names = None\n",
    "print(\"\\n🎬Directors: \", director_names or \"Not found.\")"
   ]
  },
  {
   "cell_type": "code",
   "execution_count": 137,
   "id": "5d6bf715-9677-4ed5-99df-903ecf4155b1",
   "metadata": {},
   "outputs": [
    {
     "name": "stdout",
     "output_type": "stream",
     "text": [
      "[{'@type': 'Person', 'url': 'https://www.imdb.com/name/nm0000821/', 'name': 'Amitabh Bachchan'}, {'@type': 'Person', 'url': 'https://www.imdb.com/name/nm0004564/', 'name': 'Hema Malini'}, {'@type': 'Person', 'url': 'https://www.imdb.com/name/nm0006795/', 'name': 'Salman Khan'}]\n",
      "\n",
      "👥Cast: Amitabh Bachchan, Hema Malini, Salman Khan\n"
     ]
    }
   ],
   "source": [
    "# Display Cast\n",
    "cast_list = metadata.get(\"actor\") or metadata.get(\"actors\")\n",
    "print(cast_list)\n",
    "if isinstance(cast_list, list):\n",
    "    cast_names = \", \".join(a.get(\"name\") for a in cast_list[:10] if a.get(\"name\"))\n",
    "else:\n",
    "    cast_names = None\n",
    "print(\"\\n👥Cast:\", cast_names or \"Not found.\")"
   ]
  },
  {
   "cell_type": "code",
   "execution_count": 138,
   "id": "acabf2e0-03fb-4013-b6a9-02e18f4dbff1",
   "metadata": {},
   "outputs": [
    {
     "name": "stdout",
     "output_type": "stream",
     "text": [
      "{'@type': 'AggregateRating', 'ratingCount': 18285, 'bestRating': 10, 'worstRating': 1, 'ratingValue': 7.4}\n",
      "\n",
      "⭐IMDb Rating: 7.4\n"
     ]
    }
   ],
   "source": [
    "# Display IMDb Rating\n",
    "agg = metadata.get(\"aggregateRating\")\n",
    "print(agg)\n",
    "rating = agg.get(\"ratingValue\") if isinstance(agg, dict) else None\n",
    "print(\"\\n⭐IMDb Rating:\", rating or \"Not found.\")"
   ]
  }
 ],
 "metadata": {
  "kernelspec": {
   "display_name": "Python 3 (ipykernel)",
   "language": "python",
   "name": "python3"
  },
  "language_info": {
   "codemirror_mode": {
    "name": "ipython",
    "version": 3
   },
   "file_extension": ".py",
   "mimetype": "text/x-python",
   "name": "python",
   "nbconvert_exporter": "python",
   "pygments_lexer": "ipython3",
   "version": "3.13.5"
  }
 },
 "nbformat": 4,
 "nbformat_minor": 5
}
